{
 "cells": [
  {
   "cell_type": "code",
   "execution_count": 1,
   "metadata": {},
   "outputs": [],
   "source": [
    "import urllib.request"
   ]
  },
  {
   "cell_type": "code",
   "execution_count": 2,
   "metadata": {},
   "outputs": [
    {
     "data": {
      "text/plain": [
       "('сертификат', <http.client.HTTPMessage at 0x7f74840a57f0>)"
      ]
     },
     "execution_count": 2,
     "metadata": {},
     "output_type": "execute_result"
    }
   ],
   "source": [
    "destination = 'сертификат'\n",
    "url = 'https://storage.yandexcloud.net/cloud-certs/CA.pem'\n",
    "urllib.request.urlretrieve(url, destination)"
   ]
  },
  {
   "cell_type": "code",
   "execution_count": 3,
   "metadata": {},
   "outputs": [],
   "source": [
    "# импортируем библиотеки\n",
    "import pandas as pd\n",
    "from sqlalchemy import create_engine\n",
    "# устанавливаем параметры\n",
    "db_config = {'user': 'praktikum_student', # имя пользователя\n",
    "'pwd': 'Sdf4$2;d-d30pp', # пароль\n",
    "'host': 'rc1b-wcoijxj3yxfsf3fs.mdb.yandexcloud.net',\n",
    "'port': 6432, # порт подключения\n",
    "'db': 'data-analyst-final-project-db'} # название базы данных\n",
    "connection_string = 'postgresql://{}:{}@{}:{}/{}'.format(db_config['user'],\n",
    " db_config['pwd'],\n",
    " db_config['host'],\n",
    " db_config['port'],\n",
    " db_config['db'])\n",
    "# сохраняем коннектор\n",
    "engine = create_engine(connection_string, connect_args={'sslmode':'require'})"
   ]
  },
  {
   "cell_type": "markdown",
   "metadata": {},
   "source": [
    "# Анализ базы данных сервиса для чтения книг по подписке"
   ]
  },
  {
   "cell_type": "markdown",
   "metadata": {},
   "source": [
    "\n",
    "##  Исследование таблиц"
   ]
  },
  {
   "cell_type": "code",
   "execution_count": 4,
   "metadata": {},
   "outputs": [
    {
     "data": {
      "text/html": [
       "<div>\n",
       "<style scoped>\n",
       "    .dataframe tbody tr th:only-of-type {\n",
       "        vertical-align: middle;\n",
       "    }\n",
       "\n",
       "    .dataframe tbody tr th {\n",
       "        vertical-align: top;\n",
       "    }\n",
       "\n",
       "    .dataframe thead th {\n",
       "        text-align: right;\n",
       "    }\n",
       "</style>\n",
       "<table border=\"1\" class=\"dataframe\">\n",
       "  <thead>\n",
       "    <tr style=\"text-align: right;\">\n",
       "      <th></th>\n",
       "      <th>book_id</th>\n",
       "      <th>author_id</th>\n",
       "      <th>title</th>\n",
       "      <th>num_pages</th>\n",
       "      <th>publication_date</th>\n",
       "      <th>publisher_id</th>\n",
       "    </tr>\n",
       "  </thead>\n",
       "  <tbody>\n",
       "    <tr>\n",
       "      <th>0</th>\n",
       "      <td>1</td>\n",
       "      <td>546</td>\n",
       "      <td>'Salem's Lot</td>\n",
       "      <td>594</td>\n",
       "      <td>2005-11-01</td>\n",
       "      <td>93</td>\n",
       "    </tr>\n",
       "    <tr>\n",
       "      <th>1</th>\n",
       "      <td>2</td>\n",
       "      <td>465</td>\n",
       "      <td>1 000 Places to See Before You Die</td>\n",
       "      <td>992</td>\n",
       "      <td>2003-05-22</td>\n",
       "      <td>336</td>\n",
       "    </tr>\n",
       "    <tr>\n",
       "      <th>2</th>\n",
       "      <td>3</td>\n",
       "      <td>407</td>\n",
       "      <td>13 Little Blue Envelopes (Little Blue Envelope...</td>\n",
       "      <td>322</td>\n",
       "      <td>2010-12-21</td>\n",
       "      <td>135</td>\n",
       "    </tr>\n",
       "    <tr>\n",
       "      <th>3</th>\n",
       "      <td>4</td>\n",
       "      <td>82</td>\n",
       "      <td>1491: New Revelations of the Americas Before C...</td>\n",
       "      <td>541</td>\n",
       "      <td>2006-10-10</td>\n",
       "      <td>309</td>\n",
       "    </tr>\n",
       "    <tr>\n",
       "      <th>4</th>\n",
       "      <td>5</td>\n",
       "      <td>125</td>\n",
       "      <td>1776</td>\n",
       "      <td>386</td>\n",
       "      <td>2006-07-04</td>\n",
       "      <td>268</td>\n",
       "    </tr>\n",
       "  </tbody>\n",
       "</table>\n",
       "</div>"
      ],
      "text/plain": [
       "   book_id  author_id                                              title  \\\n",
       "0        1        546                                       'Salem's Lot   \n",
       "1        2        465                 1 000 Places to See Before You Die   \n",
       "2        3        407  13 Little Blue Envelopes (Little Blue Envelope...   \n",
       "3        4         82  1491: New Revelations of the Americas Before C...   \n",
       "4        5        125                                               1776   \n",
       "\n",
       "   num_pages publication_date  publisher_id  \n",
       "0        594       2005-11-01            93  \n",
       "1        992       2003-05-22           336  \n",
       "2        322       2010-12-21           135  \n",
       "3        541       2006-10-10           309  \n",
       "4        386       2006-07-04           268  "
      ]
     },
     "execution_count": 4,
     "metadata": {},
     "output_type": "execute_result"
    }
   ],
   "source": [
    "query = '''\n",
    "SELECT *\n",
    "FROM books\n",
    "LIMIT 5\n",
    "'''\n",
    "pd.io.sql.read_sql(query, con = engine)\n",
    "\n"
   ]
  },
  {
   "cell_type": "code",
   "execution_count": 5,
   "metadata": {},
   "outputs": [
    {
     "data": {
      "text/html": [
       "<div>\n",
       "<style scoped>\n",
       "    .dataframe tbody tr th:only-of-type {\n",
       "        vertical-align: middle;\n",
       "    }\n",
       "\n",
       "    .dataframe tbody tr th {\n",
       "        vertical-align: top;\n",
       "    }\n",
       "\n",
       "    .dataframe thead th {\n",
       "        text-align: right;\n",
       "    }\n",
       "</style>\n",
       "<table border=\"1\" class=\"dataframe\">\n",
       "  <thead>\n",
       "    <tr style=\"text-align: right;\">\n",
       "      <th></th>\n",
       "      <th>author_id</th>\n",
       "      <th>author</th>\n",
       "    </tr>\n",
       "  </thead>\n",
       "  <tbody>\n",
       "    <tr>\n",
       "      <th>0</th>\n",
       "      <td>1</td>\n",
       "      <td>A.S. Byatt</td>\n",
       "    </tr>\n",
       "    <tr>\n",
       "      <th>1</th>\n",
       "      <td>2</td>\n",
       "      <td>Aesop/Laura Harris/Laura Gibbs</td>\n",
       "    </tr>\n",
       "    <tr>\n",
       "      <th>2</th>\n",
       "      <td>3</td>\n",
       "      <td>Agatha Christie</td>\n",
       "    </tr>\n",
       "    <tr>\n",
       "      <th>3</th>\n",
       "      <td>4</td>\n",
       "      <td>Alan Brennert</td>\n",
       "    </tr>\n",
       "    <tr>\n",
       "      <th>4</th>\n",
       "      <td>5</td>\n",
       "      <td>Alan Moore/David   Lloyd</td>\n",
       "    </tr>\n",
       "  </tbody>\n",
       "</table>\n",
       "</div>"
      ],
      "text/plain": [
       "   author_id                          author\n",
       "0          1                      A.S. Byatt\n",
       "1          2  Aesop/Laura Harris/Laura Gibbs\n",
       "2          3                 Agatha Christie\n",
       "3          4                   Alan Brennert\n",
       "4          5        Alan Moore/David   Lloyd"
      ]
     },
     "execution_count": 5,
     "metadata": {},
     "output_type": "execute_result"
    }
   ],
   "source": [
    "query = '''\n",
    "SELECT *\n",
    "FROM authors\n",
    "LIMIT 5\n",
    "'''\n",
    "pd.io.sql.read_sql(query, con = engine)"
   ]
  },
  {
   "cell_type": "code",
   "execution_count": 6,
   "metadata": {},
   "outputs": [
    {
     "data": {
      "text/html": [
       "<div>\n",
       "<style scoped>\n",
       "    .dataframe tbody tr th:only-of-type {\n",
       "        vertical-align: middle;\n",
       "    }\n",
       "\n",
       "    .dataframe tbody tr th {\n",
       "        vertical-align: top;\n",
       "    }\n",
       "\n",
       "    .dataframe thead th {\n",
       "        text-align: right;\n",
       "    }\n",
       "</style>\n",
       "<table border=\"1\" class=\"dataframe\">\n",
       "  <thead>\n",
       "    <tr style=\"text-align: right;\">\n",
       "      <th></th>\n",
       "      <th>rating_id</th>\n",
       "      <th>book_id</th>\n",
       "      <th>username</th>\n",
       "      <th>rating</th>\n",
       "    </tr>\n",
       "  </thead>\n",
       "  <tbody>\n",
       "    <tr>\n",
       "      <th>0</th>\n",
       "      <td>1</td>\n",
       "      <td>1</td>\n",
       "      <td>ryanfranco</td>\n",
       "      <td>4</td>\n",
       "    </tr>\n",
       "    <tr>\n",
       "      <th>1</th>\n",
       "      <td>2</td>\n",
       "      <td>1</td>\n",
       "      <td>grantpatricia</td>\n",
       "      <td>2</td>\n",
       "    </tr>\n",
       "    <tr>\n",
       "      <th>2</th>\n",
       "      <td>3</td>\n",
       "      <td>1</td>\n",
       "      <td>brandtandrea</td>\n",
       "      <td>5</td>\n",
       "    </tr>\n",
       "    <tr>\n",
       "      <th>3</th>\n",
       "      <td>4</td>\n",
       "      <td>2</td>\n",
       "      <td>lorichen</td>\n",
       "      <td>3</td>\n",
       "    </tr>\n",
       "    <tr>\n",
       "      <th>4</th>\n",
       "      <td>5</td>\n",
       "      <td>2</td>\n",
       "      <td>mariokeller</td>\n",
       "      <td>2</td>\n",
       "    </tr>\n",
       "  </tbody>\n",
       "</table>\n",
       "</div>"
      ],
      "text/plain": [
       "   rating_id  book_id       username  rating\n",
       "0          1        1     ryanfranco       4\n",
       "1          2        1  grantpatricia       2\n",
       "2          3        1   brandtandrea       5\n",
       "3          4        2       lorichen       3\n",
       "4          5        2    mariokeller       2"
      ]
     },
     "execution_count": 6,
     "metadata": {},
     "output_type": "execute_result"
    }
   ],
   "source": [
    "query = '''\n",
    "SELECT *\n",
    "FROM ratings\n",
    "LIMIT 5\n",
    "'''\n",
    "pd.io.sql.read_sql(query, con = engine)"
   ]
  },
  {
   "cell_type": "code",
   "execution_count": 7,
   "metadata": {},
   "outputs": [
    {
     "data": {
      "text/html": [
       "<div>\n",
       "<style scoped>\n",
       "    .dataframe tbody tr th:only-of-type {\n",
       "        vertical-align: middle;\n",
       "    }\n",
       "\n",
       "    .dataframe tbody tr th {\n",
       "        vertical-align: top;\n",
       "    }\n",
       "\n",
       "    .dataframe thead th {\n",
       "        text-align: right;\n",
       "    }\n",
       "</style>\n",
       "<table border=\"1\" class=\"dataframe\">\n",
       "  <thead>\n",
       "    <tr style=\"text-align: right;\">\n",
       "      <th></th>\n",
       "      <th>review_id</th>\n",
       "      <th>book_id</th>\n",
       "      <th>username</th>\n",
       "      <th>text</th>\n",
       "    </tr>\n",
       "  </thead>\n",
       "  <tbody>\n",
       "    <tr>\n",
       "      <th>0</th>\n",
       "      <td>1</td>\n",
       "      <td>1</td>\n",
       "      <td>brandtandrea</td>\n",
       "      <td>Mention society tell send professor analysis. ...</td>\n",
       "    </tr>\n",
       "    <tr>\n",
       "      <th>1</th>\n",
       "      <td>2</td>\n",
       "      <td>1</td>\n",
       "      <td>ryanfranco</td>\n",
       "      <td>Foot glass pretty audience hit themselves. Amo...</td>\n",
       "    </tr>\n",
       "    <tr>\n",
       "      <th>2</th>\n",
       "      <td>3</td>\n",
       "      <td>2</td>\n",
       "      <td>lorichen</td>\n",
       "      <td>Listen treat keep worry. Miss husband tax but ...</td>\n",
       "    </tr>\n",
       "    <tr>\n",
       "      <th>3</th>\n",
       "      <td>4</td>\n",
       "      <td>3</td>\n",
       "      <td>johnsonamanda</td>\n",
       "      <td>Finally month interesting blue could nature cu...</td>\n",
       "    </tr>\n",
       "    <tr>\n",
       "      <th>4</th>\n",
       "      <td>5</td>\n",
       "      <td>3</td>\n",
       "      <td>scotttamara</td>\n",
       "      <td>Nation purpose heavy give wait song will. List...</td>\n",
       "    </tr>\n",
       "  </tbody>\n",
       "</table>\n",
       "</div>"
      ],
      "text/plain": [
       "   review_id  book_id       username  \\\n",
       "0          1        1   brandtandrea   \n",
       "1          2        1     ryanfranco   \n",
       "2          3        2       lorichen   \n",
       "3          4        3  johnsonamanda   \n",
       "4          5        3    scotttamara   \n",
       "\n",
       "                                                text  \n",
       "0  Mention society tell send professor analysis. ...  \n",
       "1  Foot glass pretty audience hit themselves. Amo...  \n",
       "2  Listen treat keep worry. Miss husband tax but ...  \n",
       "3  Finally month interesting blue could nature cu...  \n",
       "4  Nation purpose heavy give wait song will. List...  "
      ]
     },
     "execution_count": 7,
     "metadata": {},
     "output_type": "execute_result"
    }
   ],
   "source": [
    "query = '''\n",
    "SELECT *\n",
    "FROM reviews\n",
    "LIMIT 5\n",
    "'''\n",
    "pd.io.sql.read_sql(query, con = engine)"
   ]
  },
  {
   "cell_type": "code",
   "execution_count": 8,
   "metadata": {},
   "outputs": [
    {
     "data": {
      "text/html": [
       "<div>\n",
       "<style scoped>\n",
       "    .dataframe tbody tr th:only-of-type {\n",
       "        vertical-align: middle;\n",
       "    }\n",
       "\n",
       "    .dataframe tbody tr th {\n",
       "        vertical-align: top;\n",
       "    }\n",
       "\n",
       "    .dataframe thead th {\n",
       "        text-align: right;\n",
       "    }\n",
       "</style>\n",
       "<table border=\"1\" class=\"dataframe\">\n",
       "  <thead>\n",
       "    <tr style=\"text-align: right;\">\n",
       "      <th></th>\n",
       "      <th>publisher_id</th>\n",
       "      <th>publisher</th>\n",
       "    </tr>\n",
       "  </thead>\n",
       "  <tbody>\n",
       "    <tr>\n",
       "      <th>0</th>\n",
       "      <td>1</td>\n",
       "      <td>Ace</td>\n",
       "    </tr>\n",
       "    <tr>\n",
       "      <th>1</th>\n",
       "      <td>2</td>\n",
       "      <td>Ace Book</td>\n",
       "    </tr>\n",
       "    <tr>\n",
       "      <th>2</th>\n",
       "      <td>3</td>\n",
       "      <td>Ace Books</td>\n",
       "    </tr>\n",
       "    <tr>\n",
       "      <th>3</th>\n",
       "      <td>4</td>\n",
       "      <td>Ace Hardcover</td>\n",
       "    </tr>\n",
       "    <tr>\n",
       "      <th>4</th>\n",
       "      <td>5</td>\n",
       "      <td>Addison Wesley Publishing Company</td>\n",
       "    </tr>\n",
       "  </tbody>\n",
       "</table>\n",
       "</div>"
      ],
      "text/plain": [
       "   publisher_id                          publisher\n",
       "0             1                                Ace\n",
       "1             2                           Ace Book\n",
       "2             3                          Ace Books\n",
       "3             4                      Ace Hardcover\n",
       "4             5  Addison Wesley Publishing Company"
      ]
     },
     "execution_count": 8,
     "metadata": {},
     "output_type": "execute_result"
    }
   ],
   "source": [
    "query = '''\n",
    "SELECT *\n",
    "FROM publishers\n",
    "LIMIT 5\n",
    "'''\n",
    "pd.io.sql.read_sql(query, con = engine)"
   ]
  },
  {
   "cell_type": "markdown",
   "metadata": {},
   "source": [
    "##  Количество книг, изданных после 01 января 2000"
   ]
  },
  {
   "cell_type": "code",
   "execution_count": 9,
   "metadata": {},
   "outputs": [
    {
     "data": {
      "text/html": [
       "<div>\n",
       "<style scoped>\n",
       "    .dataframe tbody tr th:only-of-type {\n",
       "        vertical-align: middle;\n",
       "    }\n",
       "\n",
       "    .dataframe tbody tr th {\n",
       "        vertical-align: top;\n",
       "    }\n",
       "\n",
       "    .dataframe thead th {\n",
       "        text-align: right;\n",
       "    }\n",
       "</style>\n",
       "<table border=\"1\" class=\"dataframe\">\n",
       "  <thead>\n",
       "    <tr style=\"text-align: right;\">\n",
       "      <th></th>\n",
       "      <th>кол-во книг</th>\n",
       "    </tr>\n",
       "  </thead>\n",
       "  <tbody>\n",
       "    <tr>\n",
       "      <th>0</th>\n",
       "      <td>821</td>\n",
       "    </tr>\n",
       "  </tbody>\n",
       "</table>\n",
       "</div>"
      ],
      "text/plain": [
       "   кол-во книг\n",
       "0          821"
      ]
     },
     "execution_count": 9,
     "metadata": {},
     "output_type": "execute_result"
    }
   ],
   "source": [
    "query = '''\n",
    "SELECT COUNT(DISTINCT(book_id)) AS \"кол-во книг\"\n",
    "FROM books\n",
    "WHERE EXTRACT (YEAR FROM CAST(publication_date AS timestamp)) > 1999\n",
    "'''\n",
    "pd.io.sql.read_sql(query, con = engine)"
   ]
  },
  {
   "cell_type": "markdown",
   "metadata": {},
   "source": [
    "**Вывод:** Количество книг, изданных с 2000 года: 821"
   ]
  },
  {
   "cell_type": "markdown",
   "metadata": {},
   "source": [
    "##  Общее количество обзоров и средняя оценка для каждой книги"
   ]
  },
  {
   "cell_type": "code",
   "execution_count": 10,
   "metadata": {},
   "outputs": [
    {
     "data": {
      "text/html": [
       "<div>\n",
       "<style scoped>\n",
       "    .dataframe tbody tr th:only-of-type {\n",
       "        vertical-align: middle;\n",
       "    }\n",
       "\n",
       "    .dataframe tbody tr th {\n",
       "        vertical-align: top;\n",
       "    }\n",
       "\n",
       "    .dataframe thead th {\n",
       "        text-align: right;\n",
       "    }\n",
       "</style>\n",
       "<table border=\"1\" class=\"dataframe\">\n",
       "  <thead>\n",
       "    <tr style=\"text-align: right;\">\n",
       "      <th></th>\n",
       "      <th>книга</th>\n",
       "      <th>кол-во отзывов</th>\n",
       "      <th>средняя оценка</th>\n",
       "    </tr>\n",
       "  </thead>\n",
       "  <tbody>\n",
       "    <tr>\n",
       "      <th>0</th>\n",
       "      <td>Twilight (Twilight  #1)</td>\n",
       "      <td>7</td>\n",
       "      <td>3.7</td>\n",
       "    </tr>\n",
       "    <tr>\n",
       "      <th>1</th>\n",
       "      <td>Water for Elephants</td>\n",
       "      <td>6</td>\n",
       "      <td>4.0</td>\n",
       "    </tr>\n",
       "    <tr>\n",
       "      <th>2</th>\n",
       "      <td>The Glass Castle</td>\n",
       "      <td>6</td>\n",
       "      <td>4.2</td>\n",
       "    </tr>\n",
       "    <tr>\n",
       "      <th>3</th>\n",
       "      <td>Harry Potter and the Prisoner of Azkaban (Harr...</td>\n",
       "      <td>6</td>\n",
       "      <td>4.4</td>\n",
       "    </tr>\n",
       "    <tr>\n",
       "      <th>4</th>\n",
       "      <td>The Curious Incident of the Dog in the Night-Time</td>\n",
       "      <td>6</td>\n",
       "      <td>4.1</td>\n",
       "    </tr>\n",
       "    <tr>\n",
       "      <th>...</th>\n",
       "      <td>...</td>\n",
       "      <td>...</td>\n",
       "      <td>...</td>\n",
       "    </tr>\n",
       "    <tr>\n",
       "      <th>995</th>\n",
       "      <td>Anne Rice's The Vampire Lestat: A Graphic Novel</td>\n",
       "      <td>0</td>\n",
       "      <td>3.7</td>\n",
       "    </tr>\n",
       "    <tr>\n",
       "      <th>996</th>\n",
       "      <td>The Natural Way to Draw</td>\n",
       "      <td>0</td>\n",
       "      <td>3.0</td>\n",
       "    </tr>\n",
       "    <tr>\n",
       "      <th>997</th>\n",
       "      <td>The Cat in the Hat and Other Dr. Seuss Favorites</td>\n",
       "      <td>0</td>\n",
       "      <td>5.0</td>\n",
       "    </tr>\n",
       "    <tr>\n",
       "      <th>998</th>\n",
       "      <td>Essential Tales and Poems</td>\n",
       "      <td>0</td>\n",
       "      <td>4.0</td>\n",
       "    </tr>\n",
       "    <tr>\n",
       "      <th>999</th>\n",
       "      <td>Disney's Beauty and the Beast (A Little Golden...</td>\n",
       "      <td>0</td>\n",
       "      <td>4.0</td>\n",
       "    </tr>\n",
       "  </tbody>\n",
       "</table>\n",
       "<p>1000 rows × 3 columns</p>\n",
       "</div>"
      ],
      "text/plain": [
       "                                                 книга  кол-во отзывов  \\\n",
       "0                              Twilight (Twilight  #1)               7   \n",
       "1                                  Water for Elephants               6   \n",
       "2                                     The Glass Castle               6   \n",
       "3    Harry Potter and the Prisoner of Azkaban (Harr...               6   \n",
       "4    The Curious Incident of the Dog in the Night-Time               6   \n",
       "..                                                 ...             ...   \n",
       "995    Anne Rice's The Vampire Lestat: A Graphic Novel               0   \n",
       "996                            The Natural Way to Draw               0   \n",
       "997   The Cat in the Hat and Other Dr. Seuss Favorites               0   \n",
       "998                          Essential Tales and Poems               0   \n",
       "999  Disney's Beauty and the Beast (A Little Golden...               0   \n",
       "\n",
       "     средняя оценка  \n",
       "0               3.7  \n",
       "1               4.0  \n",
       "2               4.2  \n",
       "3               4.4  \n",
       "4               4.1  \n",
       "..              ...  \n",
       "995             3.7  \n",
       "996             3.0  \n",
       "997             5.0  \n",
       "998             4.0  \n",
       "999             4.0  \n",
       "\n",
       "[1000 rows x 3 columns]"
      ]
     },
     "execution_count": 10,
     "metadata": {},
     "output_type": "execute_result"
    }
   ],
   "source": [
    "query = '''\n",
    "SELECT b.title AS \"книга\",\n",
    "       COUNT(DISTINCT(re.review_id)) AS \"кол-во отзывов\",\n",
    "       round(AVG(ra.rating),1) AS \"средняя оценка\"\n",
    "FROM books AS b\n",
    "LEFT JOIN ratings AS ra ON b.book_id=ra.book_id\n",
    "LEFT JOIN reviews AS re ON b.book_id=re.book_id\n",
    "GROUP BY b.book_id\n",
    "ORDER BY \"кол-во отзывов\" DESC\n",
    "'''\n",
    "pd.io.sql.read_sql(query, con = engine)\n",
    "\n",
    "\n",
    "\n",
    "\n"
   ]
  },
  {
   "cell_type": "markdown",
   "metadata": {},
   "source": [
    "**Комментарий:** Проверим все ли книги вошли в таблицу. "
   ]
  },
  {
   "cell_type": "code",
   "execution_count": 11,
   "metadata": {},
   "outputs": [
    {
     "data": {
      "text/html": [
       "<div>\n",
       "<style scoped>\n",
       "    .dataframe tbody tr th:only-of-type {\n",
       "        vertical-align: middle;\n",
       "    }\n",
       "\n",
       "    .dataframe tbody tr th {\n",
       "        vertical-align: top;\n",
       "    }\n",
       "\n",
       "    .dataframe thead th {\n",
       "        text-align: right;\n",
       "    }\n",
       "</style>\n",
       "<table border=\"1\" class=\"dataframe\">\n",
       "  <thead>\n",
       "    <tr style=\"text-align: right;\">\n",
       "      <th></th>\n",
       "      <th>кол-во книг всего</th>\n",
       "    </tr>\n",
       "  </thead>\n",
       "  <tbody>\n",
       "    <tr>\n",
       "      <th>0</th>\n",
       "      <td>1000</td>\n",
       "    </tr>\n",
       "  </tbody>\n",
       "</table>\n",
       "</div>"
      ],
      "text/plain": [
       "   кол-во книг всего\n",
       "0               1000"
      ]
     },
     "execution_count": 11,
     "metadata": {},
     "output_type": "execute_result"
    }
   ],
   "source": [
    "query = '''\n",
    "SELECT COUNT(DISTINCT(book_id)) AS \"кол-во книг всего\"\n",
    "FROM books\n",
    "'''\n",
    "pd.io.sql.read_sql(query, con = engine)"
   ]
  },
  {
   "cell_type": "markdown",
   "metadata": {},
   "source": [
    "**Комментарий:** Все книги, представленные в базе данных, вошли в таблицу. "
   ]
  },
  {
   "cell_type": "markdown",
   "metadata": {},
   "source": [
    "**Вывод:** Какой-либо закономерности в рейтинге книги по отзывам покупателей и кол-ве отзывов по полученной таблице проследить не удалось.  "
   ]
  },
  {
   "cell_type": "markdown",
   "metadata": {},
   "source": [
    "##  Издательство, выпустившее наибольшее количество книг (толще 50 страниц)"
   ]
  },
  {
   "cell_type": "code",
   "execution_count": 12,
   "metadata": {},
   "outputs": [
    {
     "data": {
      "text/html": [
       "<div>\n",
       "<style scoped>\n",
       "    .dataframe tbody tr th:only-of-type {\n",
       "        vertical-align: middle;\n",
       "    }\n",
       "\n",
       "    .dataframe tbody tr th {\n",
       "        vertical-align: top;\n",
       "    }\n",
       "\n",
       "    .dataframe thead th {\n",
       "        text-align: right;\n",
       "    }\n",
       "</style>\n",
       "<table border=\"1\" class=\"dataframe\">\n",
       "  <thead>\n",
       "    <tr style=\"text-align: right;\">\n",
       "      <th></th>\n",
       "      <th>самое мощное издательство</th>\n",
       "      <th>кол-во книг</th>\n",
       "    </tr>\n",
       "  </thead>\n",
       "  <tbody>\n",
       "    <tr>\n",
       "      <th>0</th>\n",
       "      <td>Penguin Books</td>\n",
       "      <td>42</td>\n",
       "    </tr>\n",
       "  </tbody>\n",
       "</table>\n",
       "</div>"
      ],
      "text/plain": [
       "  самое мощное издательство  кол-во книг\n",
       "0             Penguin Books           42"
      ]
     },
     "execution_count": 12,
     "metadata": {},
     "output_type": "execute_result"
    }
   ],
   "source": [
    "query = '''\n",
    "SELECT p.publisher AS \"самое мощное издательство\",\n",
    "       COUNT(DISTINCT(b.book_id)) AS \"кол-во книг\"\n",
    "FROM publishers AS p\n",
    "RIGHT JOIN books AS b ON p.publisher_id=b.publisher_id\n",
    "WHERE b.num_pages>50\n",
    "GROUP BY p.publisher\n",
    "ORDER BY \"кол-во книг\" DESC\n",
    "LIMIT 1\n",
    "'''\n",
    "pd.io.sql.read_sql(query, con = engine)\n"
   ]
  },
  {
   "cell_type": "markdown",
   "metadata": {},
   "source": [
    "##  Автор с самой высокой средней оценкой книг (среди книг, имеющих 50 и более отзывов"
   ]
  },
  {
   "cell_type": "code",
   "execution_count": 13,
   "metadata": {},
   "outputs": [
    {
     "data": {
      "text/html": [
       "<div>\n",
       "<style scoped>\n",
       "    .dataframe tbody tr th:only-of-type {\n",
       "        vertical-align: middle;\n",
       "    }\n",
       "\n",
       "    .dataframe tbody tr th {\n",
       "        vertical-align: top;\n",
       "    }\n",
       "\n",
       "    .dataframe thead th {\n",
       "        text-align: right;\n",
       "    }\n",
       "</style>\n",
       "<table border=\"1\" class=\"dataframe\">\n",
       "  <thead>\n",
       "    <tr style=\"text-align: right;\">\n",
       "      <th></th>\n",
       "      <th>автор</th>\n",
       "      <th>средняя оценка</th>\n",
       "    </tr>\n",
       "  </thead>\n",
       "  <tbody>\n",
       "    <tr>\n",
       "      <th>0</th>\n",
       "      <td>J.K. Rowling/Mary GrandPré</td>\n",
       "      <td>4.29</td>\n",
       "    </tr>\n",
       "  </tbody>\n",
       "</table>\n",
       "</div>"
      ],
      "text/plain": [
       "                        автор  средняя оценка\n",
       "0  J.K. Rowling/Mary GrandPré            4.29"
      ]
     },
     "execution_count": 13,
     "metadata": {},
     "output_type": "execute_result"
    }
   ],
   "source": [
    "query = '''\n",
    "WITH\n",
    "xas AS (SELECT book_id,\n",
    "              COUNT(DISTINCT(rating_id)) AS \"кол-во оценок\"\n",
    "       FROM ratings\n",
    "       GROUP BY book_id\n",
    "       HAVING COUNT(DISTINCT(rating_id))>=50)\n",
    "\n",
    "SELECT a.author AS \"автор\",\n",
    "       round(AVG(ra.rating), 2) AS \"средняя оценка\"\n",
    "FROM authors AS a\n",
    "JOIN books AS b ON a.author_id=b.author_id\n",
    "JOIN ratings AS ra ON ra.book_id=b.book_id\n",
    "JOIN xas ON xas.book_id=b.book_id\n",
    "GROUP BY a.author\n",
    "ORDER BY \"средняя оценка\" DESC\n",
    "LIMIT 1\n",
    "'''\n",
    "pd.io.sql.read_sql(query, con = engine)"
   ]
  },
  {
   "cell_type": "markdown",
   "metadata": {},
   "source": [
    "**Вывод:** Самый популярный автор - J.K. Rowling/Mary GrandPré (среднняя оценка 4,3)"
   ]
  },
  {
   "cell_type": "markdown",
   "metadata": {},
   "source": [
    "##  Среднее количество обзоров от пользователей, поставивших более 50 оценок"
   ]
  },
  {
   "cell_type": "code",
   "execution_count": 14,
   "metadata": {},
   "outputs": [
    {
     "data": {
      "text/html": [
       "<div>\n",
       "<style scoped>\n",
       "    .dataframe tbody tr th:only-of-type {\n",
       "        vertical-align: middle;\n",
       "    }\n",
       "\n",
       "    .dataframe tbody tr th {\n",
       "        vertical-align: top;\n",
       "    }\n",
       "\n",
       "    .dataframe thead th {\n",
       "        text-align: right;\n",
       "    }\n",
       "</style>\n",
       "<table border=\"1\" class=\"dataframe\">\n",
       "  <thead>\n",
       "    <tr style=\"text-align: right;\">\n",
       "      <th></th>\n",
       "      <th>ср. кол-во отзывов акт-ых польз.</th>\n",
       "    </tr>\n",
       "  </thead>\n",
       "  <tbody>\n",
       "    <tr>\n",
       "      <th>0</th>\n",
       "      <td>24.0</td>\n",
       "    </tr>\n",
       "  </tbody>\n",
       "</table>\n",
       "</div>"
      ],
      "text/plain": [
       "   ср. кол-во отзывов акт-ых польз.\n",
       "0                              24.0"
      ]
     },
     "execution_count": 14,
     "metadata": {},
     "output_type": "execute_result"
    }
   ],
   "source": [
    "query = '''\n",
    "WITH\n",
    "rat AS (SELECT username,\n",
    "               COUNT(rating_id)\n",
    "       FROM ratings\n",
    "       GROUP BY username\n",
    "       HAVING COUNT(rating_id)>50), \n",
    "       \n",
    "rev AS (SELECT username,\n",
    "               COUNT(review_id) AS \"отзывы\"\n",
    "        FROM reviews\n",
    "        GROUP BY username)       \n",
    "       \n",
    "SELECT round(AVG(rev.отзывы), 0) AS \"ср. кол-во отзывов акт-ых польз.\" \n",
    "FROM rat\n",
    "INNER JOIN rev ON rat.username=rev.username \n",
    "'''\n",
    "pd.io.sql.read_sql(query, con = engine)"
   ]
  },
  {
   "cell_type": "markdown",
   "metadata": {},
   "source": [
    "**Вывод:** Среднее количество отзывов активных пользователей (поставивших более 50 оценок) - 24 отзыва"
   ]
  },
  {
   "cell_type": "markdown",
   "metadata": {},
   "source": [
    "\n",
    "##  Авторы с наименьшим средним промежутком времени между публикациями книг  "
   ]
  },
  {
   "cell_type": "code",
   "execution_count": 15,
   "metadata": {},
   "outputs": [
    {
     "data": {
      "text/html": [
       "<div>\n",
       "<style scoped>\n",
       "    .dataframe tbody tr th:only-of-type {\n",
       "        vertical-align: middle;\n",
       "    }\n",
       "\n",
       "    .dataframe tbody tr th {\n",
       "        vertical-align: top;\n",
       "    }\n",
       "\n",
       "    .dataframe thead th {\n",
       "        text-align: right;\n",
       "    }\n",
       "</style>\n",
       "<table border=\"1\" class=\"dataframe\">\n",
       "  <thead>\n",
       "    <tr style=\"text-align: right;\">\n",
       "      <th></th>\n",
       "      <th>автор</th>\n",
       "      <th>количество_месяцев</th>\n",
       "    </tr>\n",
       "  </thead>\n",
       "  <tbody>\n",
       "    <tr>\n",
       "      <th>0</th>\n",
       "      <td>Rick Riordan</td>\n",
       "      <td>1.0</td>\n",
       "    </tr>\n",
       "    <tr>\n",
       "      <th>1</th>\n",
       "      <td>Tad Williams</td>\n",
       "      <td>1.0</td>\n",
       "    </tr>\n",
       "    <tr>\n",
       "      <th>2</th>\n",
       "      <td>Nora Roberts</td>\n",
       "      <td>1.0</td>\n",
       "    </tr>\n",
       "    <tr>\n",
       "      <th>3</th>\n",
       "      <td>Carl Hiaasen</td>\n",
       "      <td>1.0</td>\n",
       "    </tr>\n",
       "    <tr>\n",
       "      <th>4</th>\n",
       "      <td>Dave Barry/Ridley Pearson/Greg Call</td>\n",
       "      <td>2.0</td>\n",
       "    </tr>\n",
       "    <tr>\n",
       "      <th>...</th>\n",
       "      <td>...</td>\n",
       "      <td>...</td>\n",
       "    </tr>\n",
       "    <tr>\n",
       "      <th>118</th>\n",
       "      <td>Doris Kearns Goodwin</td>\n",
       "      <td>133.0</td>\n",
       "    </tr>\n",
       "    <tr>\n",
       "      <th>119</th>\n",
       "      <td>John Sandford</td>\n",
       "      <td>139.0</td>\n",
       "    </tr>\n",
       "    <tr>\n",
       "      <th>120</th>\n",
       "      <td>Robin McKinley</td>\n",
       "      <td>139.0</td>\n",
       "    </tr>\n",
       "    <tr>\n",
       "      <th>121</th>\n",
       "      <td>Bret Easton Ellis</td>\n",
       "      <td>145.0</td>\n",
       "    </tr>\n",
       "    <tr>\n",
       "      <th>122</th>\n",
       "      <td>Art Spiegelman</td>\n",
       "      <td>145.0</td>\n",
       "    </tr>\n",
       "  </tbody>\n",
       "</table>\n",
       "<p>123 rows × 2 columns</p>\n",
       "</div>"
      ],
      "text/plain": [
       "                                   автор  количество_месяцев\n",
       "0                           Rick Riordan                 1.0\n",
       "1                           Tad Williams                 1.0\n",
       "2                           Nora Roberts                 1.0\n",
       "3                           Carl Hiaasen                 1.0\n",
       "4    Dave Barry/Ridley Pearson/Greg Call                 2.0\n",
       "..                                   ...                 ...\n",
       "118                 Doris Kearns Goodwin               133.0\n",
       "119                        John Sandford               139.0\n",
       "120                       Robin McKinley               139.0\n",
       "121                    Bret Easton Ellis               145.0\n",
       "122                       Art Spiegelman               145.0\n",
       "\n",
       "[123 rows x 2 columns]"
      ]
     },
     "execution_count": 15,
     "metadata": {},
     "output_type": "execute_result"
    }
   ],
   "source": [
    "query = '''\n",
    "WITH publications AS \n",
    "       (SELECT author_id,\n",
    "               publication_date,\n",
    "               LAG(publication_date) OVER (PARTITION BY author_id ORDER BY publication_date),\n",
    "               ((publication_date\n",
    "               -LAG(publication_date) OVER (PARTITION BY author_id ORDER BY publication_date))/30)\n",
    "               AS months_between\n",
    "                              \n",
    "        FROM books)\n",
    "SELECT a.author AS автор,\n",
    "       ROUND(AVG(p.months_between)) AS количество_месяцев\n",
    "FROM authors AS a\n",
    "LEFT JOIN publications AS p ON p.author_id=a.author_id\n",
    "WHERE p.months_between>0\n",
    "GROUP BY a.author\n",
    "ORDER BY AVG(p.months_between)\n",
    "\n",
    "'''\n",
    "pd.io.sql.read_sql(query, con = engine)"
   ]
  },
  {
   "cell_type": "markdown",
   "metadata": {},
   "source": [
    "**Вывод:** Средний промежуток времени между публикациями книг следующих авторов составляет менее 2х месяцев:\n",
    "* Rick Riordan\n",
    "* Tad Williams\n",
    "* Nora Roberts\n",
    "* Carl Hiaasen "
   ]
  },
  {
   "cell_type": "markdown",
   "metadata": {},
   "source": [
    "##  Выводы"
   ]
  },
  {
   "cell_type": "markdown",
   "metadata": {},
   "source": [
    "* Более 82% книг, представленных в приложении выпущены начиная с 2000 года. \n",
    "* Книга с наибольшим количеством отзывов \"Сумерки\" - 7 отзывов, средняя оценка 3,7. При этом какая-либо закономерность в распределении рейтинга и количства отзывов не прослеживается. \n",
    "* Издательство, выпустившее наибольшее количество книг, представленных в приложении Penguin Books - 42 книги. \n",
    "* Самый популярный автор, среди книг, имеющих более 50 оценок - J.K. Rowling/Mary GrandPré средняя оценка 4,3\n",
    "* Активные покупатели (поставившие более 50 оценок) в среднем оставляют 24 отзыва. "
   ]
  },
  {
   "cell_type": "code",
   "execution_count": null,
   "metadata": {},
   "outputs": [],
   "source": []
  }
 ],
 "metadata": {
  "ExecuteTimeLog": [
   {
    "duration": 78,
    "start_time": "2022-08-03T08:11:56.482Z"
   },
   {
    "duration": 4,
    "start_time": "2022-08-03T08:12:15.195Z"
   },
   {
    "duration": 12,
    "start_time": "2022-08-03T08:12:21.401Z"
   },
   {
    "duration": 156,
    "start_time": "2022-08-03T08:13:31.566Z"
   },
   {
    "duration": 7870,
    "start_time": "2022-08-03T08:13:50.379Z"
   },
   {
    "duration": 71,
    "start_time": "2022-08-03T08:31:50.408Z"
   },
   {
    "duration": 10,
    "start_time": "2022-08-03T08:32:16.927Z"
   },
   {
    "duration": 122,
    "start_time": "2022-08-03T08:32:16.940Z"
   },
   {
    "duration": 9122,
    "start_time": "2022-08-03T08:32:17.063Z"
   },
   {
    "duration": 257,
    "start_time": "2022-08-03T08:34:57.411Z"
   },
   {
    "duration": 66,
    "start_time": "2022-08-03T08:35:34.618Z"
   },
   {
    "duration": 71,
    "start_time": "2022-08-03T08:36:02.797Z"
   },
   {
    "duration": 14,
    "start_time": "2022-08-03T09:16:22.552Z"
   },
   {
    "duration": 115,
    "start_time": "2022-08-03T09:16:22.568Z"
   },
   {
    "duration": 7448,
    "start_time": "2022-08-03T09:16:22.685Z"
   },
   {
    "duration": 239,
    "start_time": "2022-08-03T09:16:30.135Z"
   },
   {
    "duration": 87,
    "start_time": "2022-08-03T09:16:30.376Z"
   },
   {
    "duration": 77,
    "start_time": "2022-08-03T09:16:30.464Z"
   },
   {
    "duration": 76,
    "start_time": "2022-08-03T09:16:30.543Z"
   },
   {
    "duration": 82,
    "start_time": "2022-08-03T09:17:12.263Z"
   },
   {
    "duration": 217,
    "start_time": "2022-08-03T09:25:27.521Z"
   },
   {
    "duration": 150,
    "start_time": "2022-08-03T09:26:20.383Z"
   },
   {
    "duration": 173,
    "start_time": "2022-08-03T09:30:53.739Z"
   },
   {
    "duration": 95,
    "start_time": "2022-08-03T09:31:58.859Z"
   },
   {
    "duration": 55,
    "start_time": "2022-08-03T09:33:21.816Z"
   },
   {
    "duration": 131,
    "start_time": "2022-08-03T09:47:08.924Z"
   },
   {
    "duration": 196,
    "start_time": "2022-08-03T09:47:47.224Z"
   },
   {
    "duration": 116,
    "start_time": "2022-08-03T09:47:56.429Z"
   },
   {
    "duration": 114,
    "start_time": "2022-08-03T09:48:31.618Z"
   },
   {
    "duration": 102,
    "start_time": "2022-08-03T09:48:59.348Z"
   },
   {
    "duration": 144,
    "start_time": "2022-08-03T09:49:58.167Z"
   },
   {
    "duration": 103,
    "start_time": "2022-08-03T09:50:53.497Z"
   },
   {
    "duration": 76,
    "start_time": "2022-08-03T09:53:04.220Z"
   },
   {
    "duration": 79,
    "start_time": "2022-08-03T09:53:39.954Z"
   },
   {
    "duration": 122,
    "start_time": "2022-08-03T09:54:02.290Z"
   },
   {
    "duration": 156,
    "start_time": "2022-08-03T09:58:05.994Z"
   },
   {
    "duration": 103,
    "start_time": "2022-08-03T10:00:44.526Z"
   },
   {
    "duration": 125,
    "start_time": "2022-08-03T10:03:00.033Z"
   },
   {
    "duration": 170,
    "start_time": "2022-08-03T10:03:45.030Z"
   },
   {
    "duration": 108,
    "start_time": "2022-08-03T10:05:37.834Z"
   },
   {
    "duration": 135,
    "start_time": "2022-08-03T11:48:28.508Z"
   },
   {
    "duration": 7,
    "start_time": "2022-08-03T11:48:51.307Z"
   },
   {
    "duration": 104,
    "start_time": "2022-08-03T11:48:51.316Z"
   },
   {
    "duration": 6496,
    "start_time": "2022-08-03T11:48:51.422Z"
   },
   {
    "duration": 223,
    "start_time": "2022-08-03T11:48:57.920Z"
   },
   {
    "duration": 66,
    "start_time": "2022-08-03T11:48:58.144Z"
   },
   {
    "duration": 67,
    "start_time": "2022-08-03T11:48:58.211Z"
   },
   {
    "duration": 70,
    "start_time": "2022-08-03T11:48:58.279Z"
   },
   {
    "duration": 71,
    "start_time": "2022-08-03T11:48:58.350Z"
   },
   {
    "duration": 68,
    "start_time": "2022-08-03T11:48:58.422Z"
   },
   {
    "duration": 82,
    "start_time": "2022-08-03T11:48:58.492Z"
   },
   {
    "duration": 0,
    "start_time": "2022-08-03T11:48:58.575Z"
   },
   {
    "duration": 0,
    "start_time": "2022-08-03T11:48:58.576Z"
   },
   {
    "duration": 0,
    "start_time": "2022-08-03T11:48:58.577Z"
   },
   {
    "duration": 0,
    "start_time": "2022-08-03T11:48:58.578Z"
   },
   {
    "duration": 8,
    "start_time": "2022-08-03T11:49:27.709Z"
   },
   {
    "duration": 92,
    "start_time": "2022-08-03T11:49:27.719Z"
   },
   {
    "duration": 6446,
    "start_time": "2022-08-03T11:49:27.813Z"
   },
   {
    "duration": 235,
    "start_time": "2022-08-03T11:49:34.260Z"
   },
   {
    "duration": 70,
    "start_time": "2022-08-03T11:49:34.498Z"
   },
   {
    "duration": 70,
    "start_time": "2022-08-03T11:49:34.571Z"
   },
   {
    "duration": 71,
    "start_time": "2022-08-03T11:49:34.642Z"
   },
   {
    "duration": 69,
    "start_time": "2022-08-03T11:49:34.715Z"
   },
   {
    "duration": 69,
    "start_time": "2022-08-03T11:49:34.786Z"
   },
   {
    "duration": 94,
    "start_time": "2022-08-03T11:49:34.856Z"
   },
   {
    "duration": 70,
    "start_time": "2022-08-03T11:49:34.952Z"
   },
   {
    "duration": 202,
    "start_time": "2022-08-03T11:49:35.024Z"
   },
   {
    "duration": 129,
    "start_time": "2022-08-03T11:50:39.812Z"
   },
   {
    "duration": 78,
    "start_time": "2022-08-03T11:51:19.209Z"
   },
   {
    "duration": 72,
    "start_time": "2022-08-03T11:51:46.107Z"
   },
   {
    "duration": 128,
    "start_time": "2022-08-03T12:04:06.577Z"
   },
   {
    "duration": 184,
    "start_time": "2022-08-03T12:04:23.931Z"
   },
   {
    "duration": 194,
    "start_time": "2022-08-03T12:06:36.436Z"
   },
   {
    "duration": 151,
    "start_time": "2022-08-03T12:06:49.656Z"
   },
   {
    "duration": 84,
    "start_time": "2022-08-03T12:08:18.858Z"
   },
   {
    "duration": 81,
    "start_time": "2022-08-03T12:08:37.729Z"
   },
   {
    "duration": 79,
    "start_time": "2022-08-03T12:08:54.754Z"
   },
   {
    "duration": 115,
    "start_time": "2022-08-03T12:10:03.177Z"
   },
   {
    "duration": 139,
    "start_time": "2022-08-03T12:14:38.720Z"
   },
   {
    "duration": 80,
    "start_time": "2022-08-03T12:15:09.634Z"
   },
   {
    "duration": 133,
    "start_time": "2022-08-03T12:26:44.334Z"
   },
   {
    "duration": 136,
    "start_time": "2022-08-03T12:27:02.123Z"
   },
   {
    "duration": 178,
    "start_time": "2022-08-03T12:27:38.426Z"
   },
   {
    "duration": 8,
    "start_time": "2022-08-03T12:45:42.014Z"
   },
   {
    "duration": 86,
    "start_time": "2022-08-03T12:45:42.035Z"
   },
   {
    "duration": 6430,
    "start_time": "2022-08-03T12:45:42.123Z"
   },
   {
    "duration": 237,
    "start_time": "2022-08-03T12:45:48.555Z"
   },
   {
    "duration": 71,
    "start_time": "2022-08-03T12:45:48.794Z"
   },
   {
    "duration": 70,
    "start_time": "2022-08-03T12:45:48.867Z"
   },
   {
    "duration": 72,
    "start_time": "2022-08-03T12:45:48.939Z"
   },
   {
    "duration": 71,
    "start_time": "2022-08-03T12:45:49.012Z"
   },
   {
    "duration": 70,
    "start_time": "2022-08-03T12:45:49.085Z"
   },
   {
    "duration": 95,
    "start_time": "2022-08-03T12:45:49.157Z"
   },
   {
    "duration": 71,
    "start_time": "2022-08-03T12:45:49.254Z"
   },
   {
    "duration": 74,
    "start_time": "2022-08-03T12:45:49.326Z"
   },
   {
    "duration": 81,
    "start_time": "2022-08-03T12:45:49.402Z"
   },
   {
    "duration": 46,
    "start_time": "2022-08-03T12:45:49.486Z"
   },
   {
    "duration": 0,
    "start_time": "2022-08-03T12:45:49.534Z"
   },
   {
    "duration": 3,
    "start_time": "2022-08-03T12:53:07.317Z"
   },
   {
    "duration": 52,
    "start_time": "2022-08-03T12:53:25.323Z"
   },
   {
    "duration": 61,
    "start_time": "2022-08-03T12:53:54.730Z"
   },
   {
    "duration": 78,
    "start_time": "2022-08-03T12:54:16.280Z"
   },
   {
    "duration": 76,
    "start_time": "2022-08-03T12:54:35.618Z"
   },
   {
    "duration": 77,
    "start_time": "2022-08-03T12:55:01.764Z"
   },
   {
    "duration": 76,
    "start_time": "2022-08-03T12:55:11.881Z"
   },
   {
    "duration": 80,
    "start_time": "2022-08-03T12:55:24.241Z"
   },
   {
    "duration": 74,
    "start_time": "2022-08-03T12:55:54.570Z"
   },
   {
    "duration": 74,
    "start_time": "2022-08-03T13:19:49.661Z"
   },
   {
    "duration": 203,
    "start_time": "2022-08-03T13:24:42.271Z"
   },
   {
    "duration": 143,
    "start_time": "2022-08-03T13:25:08.056Z"
   },
   {
    "duration": 77,
    "start_time": "2022-08-03T13:25:45.589Z"
   },
   {
    "duration": 89,
    "start_time": "2022-08-03T13:29:55.328Z"
   },
   {
    "duration": 74,
    "start_time": "2022-08-03T13:30:48.724Z"
   },
   {
    "duration": 80,
    "start_time": "2022-08-03T13:31:00.571Z"
   },
   {
    "duration": 7,
    "start_time": "2022-08-03T13:32:30.326Z"
   },
   {
    "duration": 102,
    "start_time": "2022-08-03T13:32:30.335Z"
   },
   {
    "duration": 6867,
    "start_time": "2022-08-03T13:32:30.438Z"
   },
   {
    "duration": 236,
    "start_time": "2022-08-03T13:32:37.307Z"
   },
   {
    "duration": 72,
    "start_time": "2022-08-03T13:32:37.546Z"
   },
   {
    "duration": 76,
    "start_time": "2022-08-03T13:32:37.620Z"
   },
   {
    "duration": 77,
    "start_time": "2022-08-03T13:32:37.698Z"
   },
   {
    "duration": 70,
    "start_time": "2022-08-03T13:32:37.777Z"
   },
   {
    "duration": 73,
    "start_time": "2022-08-03T13:32:37.849Z"
   },
   {
    "duration": 97,
    "start_time": "2022-08-03T13:32:37.923Z"
   },
   {
    "duration": 71,
    "start_time": "2022-08-03T13:32:38.022Z"
   },
   {
    "duration": 73,
    "start_time": "2022-08-03T13:32:38.095Z"
   },
   {
    "duration": 219,
    "start_time": "2022-08-03T13:32:38.170Z"
   },
   {
    "duration": 0,
    "start_time": "2022-08-03T13:32:38.391Z"
   },
   {
    "duration": 0,
    "start_time": "2022-08-03T13:32:38.393Z"
   },
   {
    "duration": 10,
    "start_time": "2022-08-03T13:33:16.541Z"
   },
   {
    "duration": 112,
    "start_time": "2022-08-03T13:33:16.554Z"
   },
   {
    "duration": 7582,
    "start_time": "2022-08-03T13:33:16.668Z"
   },
   {
    "duration": 213,
    "start_time": "2022-08-03T13:33:24.252Z"
   },
   {
    "duration": 65,
    "start_time": "2022-08-03T13:33:24.466Z"
   },
   {
    "duration": 66,
    "start_time": "2022-08-03T13:33:24.533Z"
   },
   {
    "duration": 66,
    "start_time": "2022-08-03T13:33:24.601Z"
   },
   {
    "duration": 65,
    "start_time": "2022-08-03T13:33:24.669Z"
   },
   {
    "duration": 65,
    "start_time": "2022-08-03T13:33:24.736Z"
   },
   {
    "duration": 88,
    "start_time": "2022-08-03T13:33:24.802Z"
   },
   {
    "duration": 65,
    "start_time": "2022-08-03T13:33:24.891Z"
   },
   {
    "duration": 66,
    "start_time": "2022-08-03T13:33:24.958Z"
   },
   {
    "duration": 74,
    "start_time": "2022-08-03T13:33:25.026Z"
   },
   {
    "duration": 69,
    "start_time": "2022-08-03T13:33:25.102Z"
   },
   {
    "duration": 192,
    "start_time": "2022-08-03T13:33:25.172Z"
   },
   {
    "duration": 69,
    "start_time": "2022-08-03T13:34:00.531Z"
   },
   {
    "duration": 4,
    "start_time": "2022-08-03T13:36:18.725Z"
   },
   {
    "duration": 65,
    "start_time": "2022-08-03T13:36:59.237Z"
   },
   {
    "duration": 8,
    "start_time": "2022-08-03T13:37:05.361Z"
   },
   {
    "duration": 92,
    "start_time": "2022-08-03T13:37:05.371Z"
   },
   {
    "duration": 7272,
    "start_time": "2022-08-03T13:37:05.468Z"
   },
   {
    "duration": 4,
    "start_time": "2022-08-03T13:37:12.742Z"
   },
   {
    "duration": 107,
    "start_time": "2022-08-03T13:37:12.748Z"
   },
   {
    "duration": 0,
    "start_time": "2022-08-03T13:37:12.857Z"
   },
   {
    "duration": 0,
    "start_time": "2022-08-03T13:37:12.858Z"
   },
   {
    "duration": 0,
    "start_time": "2022-08-03T13:37:12.859Z"
   },
   {
    "duration": 0,
    "start_time": "2022-08-03T13:37:12.860Z"
   },
   {
    "duration": 0,
    "start_time": "2022-08-03T13:37:12.861Z"
   },
   {
    "duration": 0,
    "start_time": "2022-08-03T13:37:12.862Z"
   },
   {
    "duration": 0,
    "start_time": "2022-08-03T13:37:12.864Z"
   },
   {
    "duration": 0,
    "start_time": "2022-08-03T13:37:12.865Z"
   },
   {
    "duration": 0,
    "start_time": "2022-08-03T13:37:12.866Z"
   },
   {
    "duration": 0,
    "start_time": "2022-08-03T13:37:12.868Z"
   },
   {
    "duration": 4,
    "start_time": "2022-08-03T13:38:16.301Z"
   },
   {
    "duration": 7,
    "start_time": "2022-08-03T13:38:21.289Z"
   },
   {
    "duration": 292,
    "start_time": "2022-08-03T13:38:50.665Z"
   },
   {
    "duration": 3,
    "start_time": "2022-08-03T13:39:47.539Z"
   },
   {
    "duration": 148,
    "start_time": "2022-08-03T13:39:51.560Z"
   },
   {
    "duration": 4,
    "start_time": "2022-08-03T13:40:17.230Z"
   },
   {
    "duration": 138,
    "start_time": "2022-08-03T13:40:21.178Z"
   },
   {
    "duration": 4,
    "start_time": "2022-08-03T13:41:02.034Z"
   },
   {
    "duration": 174,
    "start_time": "2022-08-03T13:41:04.338Z"
   },
   {
    "duration": 157,
    "start_time": "2022-08-03T13:41:53.763Z"
   },
   {
    "duration": 80,
    "start_time": "2022-08-03T13:42:20.951Z"
   },
   {
    "duration": 11,
    "start_time": "2022-08-03T13:43:04.031Z"
   },
   {
    "duration": 3,
    "start_time": "2022-08-03T13:43:17.984Z"
   },
   {
    "duration": 3,
    "start_time": "2022-08-03T13:46:08.722Z"
   },
   {
    "duration": 147,
    "start_time": "2022-08-03T13:46:16.782Z"
   },
   {
    "duration": 3,
    "start_time": "2022-08-03T13:46:31.077Z"
   },
   {
    "duration": 204,
    "start_time": "2022-08-03T13:46:33.594Z"
   },
   {
    "duration": 78,
    "start_time": "2022-08-03T13:52:34.421Z"
   },
   {
    "duration": 8,
    "start_time": "2022-08-03T13:52:41.452Z"
   },
   {
    "duration": 103,
    "start_time": "2022-08-03T13:52:41.462Z"
   },
   {
    "duration": 7326,
    "start_time": "2022-08-03T13:52:41.567Z"
   },
   {
    "duration": 3,
    "start_time": "2022-08-03T13:52:48.895Z"
   },
   {
    "duration": 231,
    "start_time": "2022-08-03T13:52:48.900Z"
   },
   {
    "duration": 67,
    "start_time": "2022-08-03T13:52:49.133Z"
   },
   {
    "duration": 68,
    "start_time": "2022-08-03T13:52:49.201Z"
   },
   {
    "duration": 68,
    "start_time": "2022-08-03T13:52:49.271Z"
   },
   {
    "duration": 68,
    "start_time": "2022-08-03T13:52:49.341Z"
   },
   {
    "duration": 69,
    "start_time": "2022-08-03T13:52:49.412Z"
   },
   {
    "duration": 93,
    "start_time": "2022-08-03T13:52:49.483Z"
   },
   {
    "duration": 69,
    "start_time": "2022-08-03T13:52:49.578Z"
   },
   {
    "duration": 73,
    "start_time": "2022-08-03T13:52:49.649Z"
   },
   {
    "duration": 80,
    "start_time": "2022-08-03T13:52:49.724Z"
   },
   {
    "duration": 72,
    "start_time": "2022-08-03T13:52:49.806Z"
   },
   {
    "duration": 235,
    "start_time": "2022-08-03T13:53:32.874Z"
   },
   {
    "duration": 107,
    "start_time": "2022-08-03T13:53:48.050Z"
   },
   {
    "duration": 82,
    "start_time": "2022-08-03T14:20:42.819Z"
   },
   {
    "duration": 72,
    "start_time": "2022-08-03T14:20:48.724Z"
   },
   {
    "duration": 103,
    "start_time": "2022-08-03T14:21:21.787Z"
   },
   {
    "duration": 11,
    "start_time": "2022-08-03T14:21:49.723Z"
   },
   {
    "duration": 90,
    "start_time": "2022-08-03T14:21:49.737Z"
   },
   {
    "duration": 5924,
    "start_time": "2022-08-03T14:21:49.829Z"
   },
   {
    "duration": 4,
    "start_time": "2022-08-03T14:21:55.755Z"
   },
   {
    "duration": 246,
    "start_time": "2022-08-03T14:21:55.763Z"
   },
   {
    "duration": 94,
    "start_time": "2022-08-03T14:21:56.011Z"
   },
   {
    "duration": 75,
    "start_time": "2022-08-03T14:21:56.107Z"
   },
   {
    "duration": 82,
    "start_time": "2022-08-03T14:21:56.184Z"
   },
   {
    "duration": 78,
    "start_time": "2022-08-03T14:21:56.268Z"
   },
   {
    "duration": 79,
    "start_time": "2022-08-03T14:21:56.349Z"
   },
   {
    "duration": 124,
    "start_time": "2022-08-03T14:21:56.430Z"
   },
   {
    "duration": 72,
    "start_time": "2022-08-03T14:21:56.555Z"
   },
   {
    "duration": 74,
    "start_time": "2022-08-03T14:21:56.629Z"
   },
   {
    "duration": 80,
    "start_time": "2022-08-03T14:21:56.706Z"
   },
   {
    "duration": 74,
    "start_time": "2022-08-03T14:21:56.788Z"
   },
   {
    "duration": 8,
    "start_time": "2022-08-03T14:22:11.439Z"
   },
   {
    "duration": 95,
    "start_time": "2022-08-03T14:22:11.450Z"
   },
   {
    "duration": 6712,
    "start_time": "2022-08-03T14:22:11.547Z"
   },
   {
    "duration": 237,
    "start_time": "2022-08-03T14:22:18.261Z"
   },
   {
    "duration": 71,
    "start_time": "2022-08-03T14:22:18.500Z"
   },
   {
    "duration": 70,
    "start_time": "2022-08-03T14:22:18.573Z"
   },
   {
    "duration": 76,
    "start_time": "2022-08-03T14:22:18.645Z"
   },
   {
    "duration": 72,
    "start_time": "2022-08-03T14:22:18.723Z"
   },
   {
    "duration": 72,
    "start_time": "2022-08-03T14:22:18.796Z"
   },
   {
    "duration": 103,
    "start_time": "2022-08-03T14:22:18.871Z"
   },
   {
    "duration": 78,
    "start_time": "2022-08-03T14:22:18.977Z"
   },
   {
    "duration": 76,
    "start_time": "2022-08-03T14:22:19.057Z"
   },
   {
    "duration": 83,
    "start_time": "2022-08-03T14:22:19.135Z"
   },
   {
    "duration": 73,
    "start_time": "2022-08-03T14:22:19.220Z"
   },
   {
    "duration": 215,
    "start_time": "2022-08-03T14:26:57.782Z"
   },
   {
    "duration": 82,
    "start_time": "2022-08-03T14:27:07.754Z"
   },
   {
    "duration": 85,
    "start_time": "2022-08-03T14:27:27.454Z"
   },
   {
    "duration": 136,
    "start_time": "2022-08-03T14:29:57.344Z"
   },
   {
    "duration": 151,
    "start_time": "2022-08-03T14:35:00.931Z"
   },
   {
    "duration": 72,
    "start_time": "2022-08-03T14:44:28.137Z"
   },
   {
    "duration": 76,
    "start_time": "2022-08-03T14:45:24.668Z"
   },
   {
    "duration": 8,
    "start_time": "2022-08-03T14:45:29.661Z"
   },
   {
    "duration": 86,
    "start_time": "2022-08-03T14:45:29.670Z"
   },
   {
    "duration": 6748,
    "start_time": "2022-08-03T14:45:29.758Z"
   },
   {
    "duration": 220,
    "start_time": "2022-08-03T14:45:36.508Z"
   },
   {
    "duration": 68,
    "start_time": "2022-08-03T14:45:36.729Z"
   },
   {
    "duration": 67,
    "start_time": "2022-08-03T14:45:36.798Z"
   },
   {
    "duration": 67,
    "start_time": "2022-08-03T14:45:36.867Z"
   },
   {
    "duration": 67,
    "start_time": "2022-08-03T14:45:36.935Z"
   },
   {
    "duration": 66,
    "start_time": "2022-08-03T14:45:37.004Z"
   },
   {
    "duration": 100,
    "start_time": "2022-08-03T14:45:37.072Z"
   },
   {
    "duration": 65,
    "start_time": "2022-08-03T14:45:37.174Z"
   },
   {
    "duration": 72,
    "start_time": "2022-08-03T14:45:37.242Z"
   },
   {
    "duration": 70,
    "start_time": "2022-08-03T14:45:37.316Z"
   },
   {
    "duration": 72,
    "start_time": "2022-08-03T14:45:37.389Z"
   },
   {
    "duration": 102,
    "start_time": "2022-08-03T14:46:24.036Z"
   },
   {
    "duration": 300,
    "start_time": "2022-08-03T14:48:21.833Z"
   },
   {
    "duration": 84,
    "start_time": "2022-08-03T14:49:16.796Z"
   },
   {
    "duration": 124,
    "start_time": "2022-08-03T14:50:52.826Z"
   },
   {
    "duration": 160,
    "start_time": "2022-08-03T14:51:00.470Z"
   },
   {
    "duration": 193,
    "start_time": "2022-08-03T14:51:11.967Z"
   },
   {
    "duration": 96,
    "start_time": "2022-08-03T14:51:26.279Z"
   },
   {
    "duration": 107,
    "start_time": "2022-08-03T14:53:46.596Z"
   },
   {
    "duration": 109,
    "start_time": "2022-08-03T14:54:52.984Z"
   },
   {
    "duration": 94,
    "start_time": "2022-08-03T14:56:50.737Z"
   },
   {
    "duration": 130,
    "start_time": "2022-08-03T14:57:21.027Z"
   },
   {
    "duration": 68,
    "start_time": "2022-08-03T14:57:51.538Z"
   },
   {
    "duration": 135,
    "start_time": "2022-08-03T15:07:32.454Z"
   },
   {
    "duration": 138,
    "start_time": "2022-08-03T15:08:21.834Z"
   },
   {
    "duration": 179,
    "start_time": "2022-08-03T15:09:31.894Z"
   },
   {
    "duration": 78,
    "start_time": "2022-08-03T15:09:51.949Z"
   },
   {
    "duration": 75,
    "start_time": "2022-08-03T15:10:13.035Z"
   },
   {
    "duration": 72,
    "start_time": "2022-08-03T15:10:37.772Z"
   },
   {
    "duration": 12,
    "start_time": "2022-08-03T15:11:37.689Z"
   },
   {
    "duration": 91,
    "start_time": "2022-08-03T15:11:37.703Z"
   },
   {
    "duration": 6378,
    "start_time": "2022-08-03T15:11:37.797Z"
   },
   {
    "duration": 210,
    "start_time": "2022-08-03T15:11:44.178Z"
   },
   {
    "duration": 63,
    "start_time": "2022-08-03T15:11:44.390Z"
   },
   {
    "duration": 63,
    "start_time": "2022-08-03T15:11:44.455Z"
   },
   {
    "duration": 66,
    "start_time": "2022-08-03T15:11:44.520Z"
   },
   {
    "duration": 66,
    "start_time": "2022-08-03T15:11:44.589Z"
   },
   {
    "duration": 66,
    "start_time": "2022-08-03T15:11:44.657Z"
   },
   {
    "duration": 106,
    "start_time": "2022-08-03T15:11:44.727Z"
   },
   {
    "duration": 68,
    "start_time": "2022-08-03T15:11:44.836Z"
   },
   {
    "duration": 70,
    "start_time": "2022-08-03T15:11:44.906Z"
   },
   {
    "duration": 72,
    "start_time": "2022-08-03T15:11:44.978Z"
   },
   {
    "duration": 69,
    "start_time": "2022-08-03T15:11:45.052Z"
   },
   {
    "duration": 69,
    "start_time": "2022-08-03T15:12:05.431Z"
   },
   {
    "duration": 8,
    "start_time": "2022-08-03T15:15:10.232Z"
   },
   {
    "duration": 100,
    "start_time": "2022-08-03T15:15:10.242Z"
   },
   {
    "duration": 6942,
    "start_time": "2022-08-03T15:15:10.344Z"
   },
   {
    "duration": 235,
    "start_time": "2022-08-03T15:15:17.288Z"
   },
   {
    "duration": 78,
    "start_time": "2022-08-03T15:15:17.526Z"
   },
   {
    "duration": 79,
    "start_time": "2022-08-03T15:15:17.609Z"
   },
   {
    "duration": 80,
    "start_time": "2022-08-03T15:15:17.690Z"
   },
   {
    "duration": 76,
    "start_time": "2022-08-03T15:15:17.772Z"
   },
   {
    "duration": 74,
    "start_time": "2022-08-03T15:15:17.850Z"
   },
   {
    "duration": 115,
    "start_time": "2022-08-03T15:15:17.927Z"
   },
   {
    "duration": 77,
    "start_time": "2022-08-03T15:15:18.044Z"
   },
   {
    "duration": 76,
    "start_time": "2022-08-03T15:15:18.123Z"
   },
   {
    "duration": 81,
    "start_time": "2022-08-03T15:15:18.203Z"
   },
   {
    "duration": 77,
    "start_time": "2022-08-03T15:15:18.287Z"
   },
   {
    "duration": 8,
    "start_time": "2022-09-11T20:21:57.093Z"
   },
   {
    "duration": 103,
    "start_time": "2022-09-11T20:21:57.104Z"
   },
   {
    "duration": 5031,
    "start_time": "2022-09-11T20:21:57.210Z"
   },
   {
    "duration": 277,
    "start_time": "2022-09-11T20:22:02.243Z"
   },
   {
    "duration": 76,
    "start_time": "2022-09-11T20:22:02.523Z"
   },
   {
    "duration": 78,
    "start_time": "2022-09-11T20:22:02.601Z"
   },
   {
    "duration": 76,
    "start_time": "2022-09-11T20:22:02.681Z"
   },
   {
    "duration": 84,
    "start_time": "2022-09-11T20:22:02.759Z"
   },
   {
    "duration": 79,
    "start_time": "2022-09-11T20:22:02.845Z"
   },
   {
    "duration": 117,
    "start_time": "2022-09-11T20:22:02.925Z"
   },
   {
    "duration": 78,
    "start_time": "2022-09-11T20:22:03.043Z"
   },
   {
    "duration": 81,
    "start_time": "2022-09-11T20:22:03.123Z"
   },
   {
    "duration": 82,
    "start_time": "2022-09-11T20:22:03.206Z"
   },
   {
    "duration": 85,
    "start_time": "2022-09-11T20:22:03.291Z"
   },
   {
    "duration": 67,
    "start_time": "2022-09-11T20:24:02.535Z"
   },
   {
    "duration": 234,
    "start_time": "2022-09-11T20:41:16.404Z"
   },
   {
    "duration": 137,
    "start_time": "2022-09-11T20:42:10.402Z"
   },
   {
    "duration": 139,
    "start_time": "2022-09-11T20:50:17.992Z"
   },
   {
    "duration": 136,
    "start_time": "2022-09-11T20:52:23.640Z"
   },
   {
    "duration": 209,
    "start_time": "2022-09-11T20:53:32.679Z"
   },
   {
    "duration": 177,
    "start_time": "2022-09-11T20:55:06.378Z"
   },
   {
    "duration": 179,
    "start_time": "2022-09-11T20:55:28.709Z"
   },
   {
    "duration": 164,
    "start_time": "2022-09-11T20:56:08.327Z"
   },
   {
    "duration": 214,
    "start_time": "2022-09-11T20:57:12.270Z"
   },
   {
    "duration": 171,
    "start_time": "2022-09-11T20:58:56.399Z"
   },
   {
    "duration": 132,
    "start_time": "2022-09-11T20:59:27.448Z"
   },
   {
    "duration": 98,
    "start_time": "2022-09-11T20:59:58.484Z"
   },
   {
    "duration": 161,
    "start_time": "2022-09-11T21:00:56.346Z"
   },
   {
    "duration": 188,
    "start_time": "2022-09-11T21:01:35.119Z"
   },
   {
    "duration": 101,
    "start_time": "2022-09-11T21:01:52.723Z"
   },
   {
    "duration": 101,
    "start_time": "2022-09-11T21:03:01.023Z"
   },
   {
    "duration": 82,
    "start_time": "2022-09-11T21:03:35.999Z"
   },
   {
    "duration": 79,
    "start_time": "2022-09-11T21:04:08.456Z"
   },
   {
    "duration": 111,
    "start_time": "2022-09-11T21:04:17.361Z"
   },
   {
    "duration": 195,
    "start_time": "2022-09-11T21:05:49.244Z"
   },
   {
    "duration": 86,
    "start_time": "2022-09-11T21:06:27.396Z"
   },
   {
    "duration": 90,
    "start_time": "2022-09-11T21:07:18.204Z"
   },
   {
    "duration": 81,
    "start_time": "2022-09-11T21:08:46.527Z"
   },
   {
    "duration": 45,
    "start_time": "2022-09-11T21:14:39.465Z"
   },
   {
    "duration": 7,
    "start_time": "2022-09-14T13:49:52.744Z"
   },
   {
    "duration": 132,
    "start_time": "2022-09-14T13:49:52.752Z"
   },
   {
    "duration": 11443,
    "start_time": "2022-09-14T13:49:52.885Z"
   },
   {
    "duration": 257,
    "start_time": "2022-09-14T13:50:04.330Z"
   },
   {
    "duration": 75,
    "start_time": "2022-09-14T13:50:04.589Z"
   },
   {
    "duration": 75,
    "start_time": "2022-09-14T13:50:04.666Z"
   },
   {
    "duration": 75,
    "start_time": "2022-09-14T13:50:04.743Z"
   },
   {
    "duration": 72,
    "start_time": "2022-09-14T13:50:04.820Z"
   },
   {
    "duration": 647,
    "start_time": "2022-09-14T13:50:04.893Z"
   },
   {
    "duration": 8294,
    "start_time": "2022-09-14T13:50:05.542Z"
   },
   {
    "duration": 71,
    "start_time": "2022-09-14T13:50:13.837Z"
   },
   {
    "duration": 74,
    "start_time": "2022-09-14T13:50:13.910Z"
   },
   {
    "duration": 78,
    "start_time": "2022-09-14T13:50:13.986Z"
   },
   {
    "duration": 74,
    "start_time": "2022-09-14T13:50:14.066Z"
   },
   {
    "duration": 83,
    "start_time": "2022-09-14T13:50:14.141Z"
   },
   {
    "duration": 198,
    "start_time": "2022-09-14T13:52:29.780Z"
   },
   {
    "duration": 151,
    "start_time": "2022-09-14T13:53:39.197Z"
   },
   {
    "duration": 86,
    "start_time": "2022-09-14T13:59:54.540Z"
   },
   {
    "duration": 7,
    "start_time": "2022-09-14T14:00:12.846Z"
   },
   {
    "duration": 157,
    "start_time": "2022-09-14T14:00:12.855Z"
   },
   {
    "duration": 13256,
    "start_time": "2022-09-14T14:00:13.014Z"
   },
   {
    "duration": 254,
    "start_time": "2022-09-14T14:00:26.272Z"
   },
   {
    "duration": 74,
    "start_time": "2022-09-14T14:00:26.528Z"
   },
   {
    "duration": 75,
    "start_time": "2022-09-14T14:00:26.604Z"
   },
   {
    "duration": 77,
    "start_time": "2022-09-14T14:00:26.680Z"
   },
   {
    "duration": 75,
    "start_time": "2022-09-14T14:00:26.759Z"
   },
   {
    "duration": 74,
    "start_time": "2022-09-14T14:00:26.836Z"
   },
   {
    "duration": 112,
    "start_time": "2022-09-14T14:00:26.913Z"
   },
   {
    "duration": 75,
    "start_time": "2022-09-14T14:00:27.027Z"
   },
   {
    "duration": 77,
    "start_time": "2022-09-14T14:00:27.103Z"
   },
   {
    "duration": 82,
    "start_time": "2022-09-14T14:00:27.181Z"
   },
   {
    "duration": 77,
    "start_time": "2022-09-14T14:00:27.265Z"
   },
   {
    "duration": 84,
    "start_time": "2022-09-14T14:00:27.344Z"
   },
   {
    "duration": 8,
    "start_time": "2022-09-19T06:31:34.357Z"
   },
   {
    "duration": 122,
    "start_time": "2022-09-19T06:31:34.366Z"
   },
   {
    "duration": 6492,
    "start_time": "2022-09-19T06:31:34.490Z"
   },
   {
    "duration": 358,
    "start_time": "2022-09-19T06:31:40.984Z"
   },
   {
    "duration": 84,
    "start_time": "2022-09-19T06:31:41.343Z"
   },
   {
    "duration": 71,
    "start_time": "2022-09-19T06:31:41.429Z"
   },
   {
    "duration": 87,
    "start_time": "2022-09-19T06:31:41.502Z"
   },
   {
    "duration": 85,
    "start_time": "2022-09-19T06:31:41.590Z"
   },
   {
    "duration": 88,
    "start_time": "2022-09-19T06:31:41.677Z"
   },
   {
    "duration": 127,
    "start_time": "2022-09-19T06:31:41.767Z"
   },
   {
    "duration": 76,
    "start_time": "2022-09-19T06:31:41.895Z"
   },
   {
    "duration": 81,
    "start_time": "2022-09-19T06:31:41.973Z"
   },
   {
    "duration": 87,
    "start_time": "2022-09-19T06:31:42.056Z"
   },
   {
    "duration": 82,
    "start_time": "2022-09-19T06:31:42.145Z"
   },
   {
    "duration": 74,
    "start_time": "2022-09-19T06:31:42.228Z"
   }
  ],
  "kernelspec": {
   "display_name": "Python 3 (ipykernel)",
   "language": "python",
   "name": "python3"
  },
  "language_info": {
   "codemirror_mode": {
    "name": "ipython",
    "version": 3
   },
   "file_extension": ".py",
   "mimetype": "text/x-python",
   "name": "python",
   "nbconvert_exporter": "python",
   "pygments_lexer": "ipython3",
   "version": "3.9.5"
  },
  "toc": {
   "base_numbering": 1,
   "nav_menu": {},
   "number_sections": true,
   "sideBar": true,
   "skip_h1_title": true,
   "title_cell": "Table of Contents",
   "title_sidebar": "Contents",
   "toc_cell": false,
   "toc_position": {},
   "toc_section_display": true,
   "toc_window_display": false
  }
 },
 "nbformat": 4,
 "nbformat_minor": 2
}
